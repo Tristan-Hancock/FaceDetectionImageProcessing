{
 "cells": [
  {
   "cell_type": "code",
   "execution_count": null,
   "metadata": {},
   "outputs": [],
   "source": [
    "import cv2\n",
    "import matplotlib.pyplot as plt\n",
    "import numpy as np"
   ]
  },
  {
   "cell_type": "code",
   "execution_count": null,
   "metadata": {},
   "outputs": [],
   "source": [
    "# Load the image\n",
    "image = cv2.imread('face1.jpg')\n",
    "#image = cv2.imread('multiple.jpg')\n",
    "#image = cv2.imread('noface.jpg')\n",
    "image_rgb = cv2.cvtColor(image, cv2.COLOR_BGR2RGB)\n",
    "\n",
    "# Convert the image to the HSV color space\n",
    "hsv = cv2.cvtColor(image, cv2.COLOR_BGR2HSV)\n",
    "\n",
    "# Define a lower and upper range for detecting skin color\n",
    "lower_skin = np.array([0, 20, 70], dtype=\"uint8\")\n",
    "upper_skin = np.array([20, 255, 255], dtype=\"uint8\")\n",
    "\n",
    "# Create a binary mask to detect skin color\n",
    "skin_mask = cv2.inRange(hsv, lower_skin, upper_skin)\n",
    "\n",
    "# Find contours in the skin color mask\n",
    "contours, _ = cv2.findContours(skin_mask, cv2.RETR_EXTERNAL, cv2.CHAIN_APPROX_SIMPLE)\n",
    "\n",
    "# Filter out small contours (adjust the area threshold as needed)\n",
    "min_face_area = 1000\n",
    "faces = []\n",
    "\n"
   ]
  },
  {
   "cell_type": "code",
   "execution_count": null,
   "metadata": {},
   "outputs": [],
   "source": [
    "for contour in contours:\n",
    "    if cv2.contourArea(contour) > min_face_area:\n",
    "        faces.append(contour)\n",
    "\n",
    "# Check if any faces were found\n",
    "if len(faces) == 0:\n",
    "    print(\"No face detected\")\n",
    "else:\n",
    "    # Draw rectangles around the detected faces\n",
    "    for face in faces:\n",
    "        x, y, w, h = cv2.boundingRect(face)\n",
    "        cv2.rectangle(image_rgb, (x, y), (x + w, y + h), (0, 255, 0), 2)\n",
    "\n",
    "    # Display the image using Matplotlib\n",
    "    fig, ax = plt.subplots()\n",
    "    ax.imshow(image_rgb)\n",
    "    ax.set_title('Detected Faces')\n",
    "    ax.set_xlabel('x')\n",
    "    ax.set_ylabel('y')\n",
    "    plt.show()\n"
   ]
  },
  {
   "cell_type": "code",
   "execution_count": null,
   "metadata": {},
   "outputs": [],
   "source": []
  },
  {
   "cell_type": "code",
   "execution_count": null,
   "metadata": {},
   "outputs": [],
   "source": []
  }
 ],
 "metadata": {
  "kernelspec": {
   "display_name": "base",
   "language": "python",
   "name": "python3"
  },
  "language_info": {
   "codemirror_mode": {
    "name": "ipython",
    "version": 3
   },
   "file_extension": ".py",
   "mimetype": "text/x-python",
   "name": "python",
   "nbconvert_exporter": "python",
   "pygments_lexer": "ipython3",
   "version": "3.11.3"
  }
 },
 "nbformat": 4,
 "nbformat_minor": 2
}
